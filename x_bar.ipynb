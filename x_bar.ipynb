{
 "cells": [
  {
   "cell_type": "code",
   "execution_count": 3,
   "metadata": {},
   "outputs": [
    {
     "data": {
      "application/vnd.jupyter.widget-view+json": {
       "model_id": "926819705c384f3285f8cfbc4a69d075",
       "version_major": 2,
       "version_minor": 0
      },
      "text/plain": [
       "interactive(children=(IntSlider(value=1, description='n', max=50, min=1), Output()), _dom_classes=('widget-int…"
      ]
     },
     "metadata": {},
     "output_type": "display_data"
    },
    {
     "data": {
      "text/plain": [
       "<function __main__.plot_normal_pdf(n)>"
      ]
     },
     "execution_count": 3,
     "metadata": {},
     "output_type": "execute_result"
    }
   ],
   "source": [
    "import numpy as np\n",
    "import matplotlib.pyplot as plt\n",
    "from scipy.stats import norm\n",
    "\n",
    "# Create a slider to control n\n",
    "from ipywidgets import interact\n",
    "import ipywidgets as widgets\n",
    "\n",
    "def plot_normal_pdf(n):\n",
    "    # Generate random samples from N(0,1)\n",
    "    samples = np.random.standard_normal((n, 1000))\n",
    "    \n",
    "    # Calculate sample means (X_bar)\n",
    "    x_bars = np.mean(samples, axis=0)\n",
    "    \n",
    "    # Create points for plotting the PDFs\n",
    "    x = np.linspace(-4, 4, 1000)\n",
    "    \n",
    "    # Plot the standard normal PDF\n",
    "    plt.figure(figsize=(10, 6))\n",
    "    plt.plot(x, norm.pdf(x, 0, 1), 'b-', label='N(0,1)')\n",
    "    \n",
    "    # Plot the sampling distribution of X_bar\n",
    "    plt.hist(x_bars, bins=50, density=True, alpha=0.5, label=f'X̄ (n={n})')\n",
    "    plt.plot(x, norm.pdf(x, 0, 1/np.sqrt(n)), 'r--', \n",
    "            label=f'N(0,1/{np.sqrt(n)})')\n",
    "    \n",
    "    plt.title(f'Standard Normal vs Sampling Distribution (n={n})')\n",
    "    plt.xlabel('Value')\n",
    "    plt.ylabel('Density')\n",
    "    plt.legend()\n",
    "    plt.grid(True)\n",
    "    plt.show()\n",
    "\n",
    "# Create interactive slider\n",
    "interact(plot_normal_pdf, n=widgets.IntSlider(min=1, max=50, step=1, value=1))"
   ]
  },
  {
   "cell_type": "code",
   "execution_count": 1,
   "metadata": {},
   "outputs": [
    {
     "data": {
      "text/plain": [
       "1"
      ]
     },
     "execution_count": 1,
     "metadata": {},
     "output_type": "execute_result"
    }
   ],
   "source": []
  }
 ],
 "metadata": {
  "kernelspec": {
   "display_name": "base",
   "language": "python",
   "name": "python3"
  },
  "language_info": {
   "codemirror_mode": {
    "name": "ipython",
    "version": 3
   },
   "file_extension": ".py",
   "mimetype": "text/x-python",
   "name": "python",
   "nbconvert_exporter": "python",
   "pygments_lexer": "ipython3",
   "version": "3.12.3"
  }
 },
 "nbformat": 4,
 "nbformat_minor": 2
}
